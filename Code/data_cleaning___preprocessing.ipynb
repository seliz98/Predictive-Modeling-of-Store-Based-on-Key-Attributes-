{
  "cells": [
    {
      "cell_type": "code",
      "execution_count": null,
      "id": "a03b5cb4",
      "metadata": {
        "id": "a03b5cb4"
      },
      "outputs": [],
      "source": [
        "import pandas as pd\n",
        "\n",
        "df = pd.read_json('C:/Users/likit/OneDrive/Desktop/DataMiningAssignment/Data/data.json')\n",
        "df.to_csv('C:/Users/likit/OneDrive/Desktop/DataMiningAssignment/Data/RestaurantData.csv')"
      ]
    },
    {
      "cell_type": "code",
      "execution_count": null,
      "id": "53a1a819",
      "metadata": {
        "id": "53a1a819"
      },
      "outputs": [],
      "source": [
        "data = pd.read_csv('C:/Users/likit/OneDrive/Desktop/DataMiningAssignment/Data/swiggy.csv')"
      ]
    },
    {
      "cell_type": "code",
      "execution_count": null,
      "id": "3c587bd6",
      "metadata": {
        "id": "3c587bd6",
        "outputId": "5732ad03-9ec4-4e7a-a044-633eb6bbdc41"
      },
      "outputs": [
        {
          "data": {
            "text/plain": [
              "(148541, 11)"
            ]
          },
          "execution_count": 9,
          "metadata": {},
          "output_type": "execute_result"
        }
      ],
      "source": [
        "data.shape"
      ]
    },
    {
      "cell_type": "code",
      "execution_count": null,
      "id": "911c91be",
      "metadata": {
        "id": "911c91be"
      },
      "outputs": [],
      "source": [
        "data.info() "
      ]
    },
    {
      "cell_type": "code",
      "execution_count": null,
      "id": "052320ba",
      "metadata": {
        "id": "052320ba",
        "outputId": "241facf0-b4f1-48ae-8349-3f246afd7b59"
      },
      "outputs": [
        {
          "data": {
            "text/plain": [
              "id                0\n",
              "name             86\n",
              "city              0\n",
              "rating           86\n",
              "rating_count     86\n",
              "cost            131\n",
              "cuisine          99\n",
              "lic_no          229\n",
              "link              0\n",
              "address          86\n",
              "menu              0\n",
              "dtype: int64"
            ]
          },
          "execution_count": 11,
          "metadata": {},
          "output_type": "execute_result"
        }
      ],
      "source": [
        "data.isnull().sum()"
      ]
    },
    {
      "cell_type": "code",
      "execution_count": null,
      "id": "6c398441",
      "metadata": {
        "id": "6c398441",
        "outputId": "c26366d1-0669-4be8-d005-af51cb331c70"
      },
      "outputs": [
        {
          "data": {
            "text/plain": [
              "id              0.00\n",
              "name            0.06\n",
              "city            0.00\n",
              "rating          0.06\n",
              "rating_count    0.06\n",
              "cost            0.09\n",
              "cuisine         0.07\n",
              "lic_no          0.15\n",
              "link            0.00\n",
              "address         0.06\n",
              "menu            0.00\n",
              "dtype: float64"
            ]
          },
          "execution_count": 12,
          "metadata": {},
          "output_type": "execute_result"
        }
      ],
      "source": [
        "#Checking the percentage of missing values in each column\n",
        "round(100*(data.isnull().sum()/len(data.index)), 2) \n"
      ]
    },
    {
      "cell_type": "code",
      "execution_count": null,
      "id": "8bf4cfc1",
      "metadata": {
        "id": "8bf4cfc1",
        "outputId": "56234e9d-45ec-4a42-e804-b104c6e2f493"
      },
      "outputs": [
        {
          "data": {
            "text/html": [
              "<div>\n",
              "<style scoped>\n",
              "    .dataframe tbody tr th:only-of-type {\n",
              "        vertical-align: middle;\n",
              "    }\n",
              "\n",
              "    .dataframe tbody tr th {\n",
              "        vertical-align: top;\n",
              "    }\n",
              "\n",
              "    .dataframe thead th {\n",
              "        text-align: right;\n",
              "    }\n",
              "</style>\n",
              "<table border=\"1\" class=\"dataframe\">\n",
              "  <thead>\n",
              "    <tr style=\"text-align: right;\">\n",
              "      <th></th>\n",
              "      <th>id</th>\n",
              "      <th>name</th>\n",
              "      <th>city</th>\n",
              "      <th>rating</th>\n",
              "      <th>rating_count</th>\n",
              "      <th>cost</th>\n",
              "      <th>cuisine</th>\n",
              "      <th>lic_no</th>\n",
              "      <th>link</th>\n",
              "      <th>address</th>\n",
              "      <th>menu</th>\n",
              "    </tr>\n",
              "  </thead>\n",
              "  <tbody>\n",
              "    <tr>\n",
              "      <th>0</th>\n",
              "      <td>567335</td>\n",
              "      <td>AB FOODS POINT</td>\n",
              "      <td>Abohar</td>\n",
              "      <td>--</td>\n",
              "      <td>Too Few Ratings</td>\n",
              "      <td>₹ 200</td>\n",
              "      <td>Beverages,Pizzas</td>\n",
              "      <td>22122652000138</td>\n",
              "      <td>https://www.swiggy.com/restaurants/ab-foods-po...</td>\n",
              "      <td>AB FOODS POINT, NEAR RISHI NARANG DENTAL CLINI...</td>\n",
              "      <td>Menu/567335.json</td>\n",
              "    </tr>\n",
              "    <tr>\n",
              "      <th>1</th>\n",
              "      <td>531342</td>\n",
              "      <td>Janta Sweet House</td>\n",
              "      <td>Abohar</td>\n",
              "      <td>4.4</td>\n",
              "      <td>50+ ratings</td>\n",
              "      <td>₹ 200</td>\n",
              "      <td>Sweets,Bakery</td>\n",
              "      <td>12117201000112</td>\n",
              "      <td>https://www.swiggy.com/restaurants/janta-sweet...</td>\n",
              "      <td>Janta Sweet House, Bazar No.9, Circullar Road,...</td>\n",
              "      <td>Menu/531342.json</td>\n",
              "    </tr>\n",
              "    <tr>\n",
              "      <th>2</th>\n",
              "      <td>158203</td>\n",
              "      <td>theka coffee desi</td>\n",
              "      <td>Abohar</td>\n",
              "      <td>3.8</td>\n",
              "      <td>100+ ratings</td>\n",
              "      <td>₹ 100</td>\n",
              "      <td>Beverages</td>\n",
              "      <td>22121652000190</td>\n",
              "      <td>https://www.swiggy.com/restaurants/theka-coffe...</td>\n",
              "      <td>theka coffee desi, sahtiya sadan road city</td>\n",
              "      <td>Menu/158203.json</td>\n",
              "    </tr>\n",
              "    <tr>\n",
              "      <th>3</th>\n",
              "      <td>187912</td>\n",
              "      <td>Singh Hut</td>\n",
              "      <td>Abohar</td>\n",
              "      <td>3.7</td>\n",
              "      <td>20+ ratings</td>\n",
              "      <td>₹ 250</td>\n",
              "      <td>Fast Food,Indian</td>\n",
              "      <td>22119652000167</td>\n",
              "      <td>https://www.swiggy.com/restaurants/singh-hut-n...</td>\n",
              "      <td>Singh Hut, CIRCULAR ROAD NEAR NEHRU PARK ABOHAR</td>\n",
              "      <td>Menu/187912.json</td>\n",
              "    </tr>\n",
              "    <tr>\n",
              "      <th>4</th>\n",
              "      <td>543530</td>\n",
              "      <td>GRILL MASTERS</td>\n",
              "      <td>Abohar</td>\n",
              "      <td>--</td>\n",
              "      <td>Too Few Ratings</td>\n",
              "      <td>₹ 250</td>\n",
              "      <td>Italian-American,Fast Food</td>\n",
              "      <td>12122201000053</td>\n",
              "      <td>https://www.swiggy.com/restaurants/grill-maste...</td>\n",
              "      <td>GRILL MASTERS, ADA Heights, Abohar - Hanumanga...</td>\n",
              "      <td>Menu/543530.json</td>\n",
              "    </tr>\n",
              "    <tr>\n",
              "      <th>...</th>\n",
              "      <td>...</td>\n",
              "      <td>...</td>\n",
              "      <td>...</td>\n",
              "      <td>...</td>\n",
              "      <td>...</td>\n",
              "      <td>...</td>\n",
              "      <td>...</td>\n",
              "      <td>...</td>\n",
              "      <td>...</td>\n",
              "      <td>...</td>\n",
              "      <td>...</td>\n",
              "    </tr>\n",
              "    <tr>\n",
              "      <th>148536</th>\n",
              "      <td>553122</td>\n",
              "      <td>The Food Delight</td>\n",
              "      <td>Yavatmal</td>\n",
              "      <td>--</td>\n",
              "      <td>Too Few Ratings</td>\n",
              "      <td>₹ 200</td>\n",
              "      <td>Fast Food,Snacks</td>\n",
              "      <td>21522053000452</td>\n",
              "      <td>https://www.swiggy.com/restaurants/the-food-de...</td>\n",
              "      <td>The Food Delight, 94MC+X35, New Singhania Naga...</td>\n",
              "      <td>Menu/553122.json</td>\n",
              "    </tr>\n",
              "    <tr>\n",
              "      <th>148537</th>\n",
              "      <td>562647</td>\n",
              "      <td>MAITRI FOODS &amp; BEVERAGES</td>\n",
              "      <td>Yavatmal</td>\n",
              "      <td>--</td>\n",
              "      <td>Too Few Ratings</td>\n",
              "      <td>₹ 300</td>\n",
              "      <td>Pizzas</td>\n",
              "      <td>license</td>\n",
              "      <td>https://www.swiggy.com/restaurants/maitri-food...</td>\n",
              "      <td>MAITRI FOODS &amp; BEVERAGES, POLIC MITRYA SOCIETY...</td>\n",
              "      <td>Menu/562647.json</td>\n",
              "    </tr>\n",
              "    <tr>\n",
              "      <th>148538</th>\n",
              "      <td>559435</td>\n",
              "      <td>Cafe Bella Ciao</td>\n",
              "      <td>Yavatmal</td>\n",
              "      <td>--</td>\n",
              "      <td>Too Few Ratings</td>\n",
              "      <td>₹ 300</td>\n",
              "      <td>Fast Food,Snacks</td>\n",
              "      <td>21522251000378</td>\n",
              "      <td>https://www.swiggy.com/restaurants/cafe-bella-...</td>\n",
              "      <td>Cafe Bella Ciao, SHOP NO 2 NEMANI MARKET SBI S...</td>\n",
              "      <td>Menu/559435.json</td>\n",
              "    </tr>\n",
              "    <tr>\n",
              "      <th>148539</th>\n",
              "      <td>418989</td>\n",
              "      <td>GRILL ZILLA</td>\n",
              "      <td>Yavatmal</td>\n",
              "      <td>--</td>\n",
              "      <td>Too Few Ratings</td>\n",
              "      <td>₹ 250</td>\n",
              "      <td>Continental</td>\n",
              "      <td>21521251000241</td>\n",
              "      <td>https://www.swiggy.com/restaurants/grill-zilla...</td>\n",
              "      <td>GRILL ZILLA, SHO NO 2/6, POSTEL GROUND CHOWPAT...</td>\n",
              "      <td>Menu/418989.json</td>\n",
              "    </tr>\n",
              "    <tr>\n",
              "      <th>148540</th>\n",
              "      <td>447770</td>\n",
              "      <td>Lazeez kitchen</td>\n",
              "      <td>Yavatmal</td>\n",
              "      <td>--</td>\n",
              "      <td>Too Few Ratings</td>\n",
              "      <td>₹ 200</td>\n",
              "      <td>Pizzas</td>\n",
              "      <td>21521251000634</td>\n",
              "      <td>https://www.swiggy.com/restaurants/lazeez-kitc...</td>\n",
              "      <td>Lazeez kitchen, 94G3+2RR, Wadgaon, Yavatmal, M...</td>\n",
              "      <td>Menu/447770.json</td>\n",
              "    </tr>\n",
              "  </tbody>\n",
              "</table>\n",
              "<p>148398 rows × 11 columns</p>\n",
              "</div>"
            ],
            "text/plain": [
              "            id                      name      city rating     rating_count  \\\n",
              "0       567335            AB FOODS POINT    Abohar     --  Too Few Ratings   \n",
              "1       531342         Janta Sweet House    Abohar    4.4      50+ ratings   \n",
              "2       158203         theka coffee desi    Abohar    3.8     100+ ratings   \n",
              "3       187912                 Singh Hut    Abohar    3.7      20+ ratings   \n",
              "4       543530             GRILL MASTERS    Abohar     --  Too Few Ratings   \n",
              "...        ...                       ...       ...    ...              ...   \n",
              "148536  553122          The Food Delight  Yavatmal     --  Too Few Ratings   \n",
              "148537  562647  MAITRI FOODS & BEVERAGES  Yavatmal     --  Too Few Ratings   \n",
              "148538  559435           Cafe Bella Ciao  Yavatmal     --  Too Few Ratings   \n",
              "148539  418989               GRILL ZILLA  Yavatmal     --  Too Few Ratings   \n",
              "148540  447770            Lazeez kitchen  Yavatmal     --  Too Few Ratings   \n",
              "\n",
              "         cost                     cuisine          lic_no  \\\n",
              "0       ₹ 200            Beverages,Pizzas  22122652000138   \n",
              "1       ₹ 200               Sweets,Bakery  12117201000112   \n",
              "2       ₹ 100                   Beverages  22121652000190   \n",
              "3       ₹ 250            Fast Food,Indian  22119652000167   \n",
              "4       ₹ 250  Italian-American,Fast Food  12122201000053   \n",
              "...       ...                         ...             ...   \n",
              "148536  ₹ 200            Fast Food,Snacks  21522053000452   \n",
              "148537  ₹ 300                      Pizzas         license   \n",
              "148538  ₹ 300            Fast Food,Snacks  21522251000378   \n",
              "148539  ₹ 250                 Continental  21521251000241   \n",
              "148540  ₹ 200                      Pizzas  21521251000634   \n",
              "\n",
              "                                                     link  \\\n",
              "0       https://www.swiggy.com/restaurants/ab-foods-po...   \n",
              "1       https://www.swiggy.com/restaurants/janta-sweet...   \n",
              "2       https://www.swiggy.com/restaurants/theka-coffe...   \n",
              "3       https://www.swiggy.com/restaurants/singh-hut-n...   \n",
              "4       https://www.swiggy.com/restaurants/grill-maste...   \n",
              "...                                                   ...   \n",
              "148536  https://www.swiggy.com/restaurants/the-food-de...   \n",
              "148537  https://www.swiggy.com/restaurants/maitri-food...   \n",
              "148538  https://www.swiggy.com/restaurants/cafe-bella-...   \n",
              "148539  https://www.swiggy.com/restaurants/grill-zilla...   \n",
              "148540  https://www.swiggy.com/restaurants/lazeez-kitc...   \n",
              "\n",
              "                                                  address              menu  \n",
              "0       AB FOODS POINT, NEAR RISHI NARANG DENTAL CLINI...  Menu/567335.json  \n",
              "1       Janta Sweet House, Bazar No.9, Circullar Road,...  Menu/531342.json  \n",
              "2              theka coffee desi, sahtiya sadan road city  Menu/158203.json  \n",
              "3         Singh Hut, CIRCULAR ROAD NEAR NEHRU PARK ABOHAR  Menu/187912.json  \n",
              "4       GRILL MASTERS, ADA Heights, Abohar - Hanumanga...  Menu/543530.json  \n",
              "...                                                   ...               ...  \n",
              "148536  The Food Delight, 94MC+X35, New Singhania Naga...  Menu/553122.json  \n",
              "148537  MAITRI FOODS & BEVERAGES, POLIC MITRYA SOCIETY...  Menu/562647.json  \n",
              "148538  Cafe Bella Ciao, SHOP NO 2 NEMANI MARKET SBI S...  Menu/559435.json  \n",
              "148539  GRILL ZILLA, SHO NO 2/6, POSTEL GROUND CHOWPAT...  Menu/418989.json  \n",
              "148540  Lazeez kitchen, 94G3+2RR, Wadgaon, Yavatmal, M...  Menu/447770.json  \n",
              "\n",
              "[148398 rows x 11 columns]"
            ]
          },
          "execution_count": 13,
          "metadata": {},
          "output_type": "execute_result"
        }
      ],
      "source": [
        "# 0.6 or 0.9 are very minute, so we remove them  \n",
        "data.dropna(subset=['name','rating','rating_count','cost','cuisine','address'],how='any')  "
      ]
    },
    {
      "cell_type": "code",
      "execution_count": null,
      "id": "838aeee2",
      "metadata": {
        "id": "838aeee2",
        "outputId": "8dcb9569-1dba-497d-ce52-dffb79e44786"
      },
      "outputs": [
        {
          "data": {
            "text/plain": [
              "id              0.0\n",
              "name            0.0\n",
              "city            0.0\n",
              "rating          0.0\n",
              "rating_count    0.0\n",
              "cost            0.0\n",
              "cuisine         0.0\n",
              "lic_no          0.0\n",
              "link            0.0\n",
              "address         0.0\n",
              "menu            0.0\n",
              "dtype: float64"
            ]
          },
          "execution_count": 15,
          "metadata": {},
          "output_type": "execute_result"
        }
      ],
      "source": [
        "#Filling the null values in the lic_no with Mode based on each licence number\n",
        "m=data['lic_no'].mode()\n",
        "data.fillna(m)   \n",
        "\n",
        "#Filtering the null rows from null valued columns\n",
        "data = data[-data[\"name\"].isnull()]\n",
        "data = data[-data[\"rating\"].isnull()]\n",
        "data = data[-data[\"rating_count\"].isnull()]\n",
        "data = data[-data[\"cost\"].isnull()]\n",
        "data = data[-data[\"cuisine\"].isnull()]\n",
        "data = data[-data[\"address\"].isnull()]\n",
        "data = data[-data[\"lic_no\"].isnull()]\n",
        "\n",
        "round(100*(data.isnull().sum()/len(data.index)), 2) "
      ]
    },
    {
      "cell_type": "code",
      "execution_count": null,
      "id": "ac8beb31",
      "metadata": {
        "id": "ac8beb31",
        "outputId": "1f00e9dc-a2a8-4231-a5b9-ed3eb366af0a"
      },
      "outputs": [
        {
          "data": {
            "text/plain": [
              "0.18999999999999773"
            ]
          },
          "execution_count": 16,
          "metadata": {},
          "output_type": "execute_result"
        }
      ],
      "source": [
        "#Calculating the data loss\n",
        "100-round(100*len(data.index)/148541,2) \n",
        "#We lost 0.1% data in the data cleaning process"
      ]
    },
    {
      "cell_type": "code",
      "execution_count": null,
      "id": "65ffdd3d",
      "metadata": {
        "id": "65ffdd3d",
        "outputId": "e9a4cf2f-f2db-446b-8d08-9f6e3fbe86e2"
      },
      "outputs": [
        {
          "data": {
            "text/plain": [
              "0"
            ]
          },
          "execution_count": 17,
          "metadata": {},
          "output_type": "execute_result"
        }
      ],
      "source": [
        "#Check for duplicated column\n",
        "data.duplicated().sum() "
      ]
    },
    {
      "cell_type": "code",
      "execution_count": null,
      "id": "9c3ed304",
      "metadata": {
        "id": "9c3ed304"
      },
      "outputs": [],
      "source": [
        "#Check for appropriate datatype\n",
        "# # for rating column \n",
        "# replace '--' with 0 and typecasted to float \n",
        "\n",
        "def fun(column):\n",
        "    rating_int = []\n",
        "    for i in column:\n",
        "        if i=='--':\n",
        "            rating_int.append(0)\n",
        "        else:\n",
        "            rating_int.append(float(i)) \n",
        "    return rating_int \n",
        "\n",
        "data['rating'] = fun(data['rating'])\n",
        "data['rating'].replace(0.0,round(data['rating'].mean(),2), inplace=True)   "
      ]
    },
    {
      "cell_type": "code",
      "execution_count": null,
      "id": "5085a349",
      "metadata": {
        "id": "5085a349",
        "outputId": "66136a24-2a11-4d1b-fc2b-3dc9066c55fa"
      },
      "outputs": [
        {
          "data": {
            "text/plain": [
              "Too Few Ratings    86912\n",
              "20+ ratings        21604\n",
              "100+ ratings       20514\n",
              "50+ ratings        11985\n",
              "500+ ratings        4390\n",
              "1K+ ratings         2737\n",
              "5K+ ratings           98\n",
              "10K+ ratings          15\n",
              "Name: rating_count, dtype: int64"
            ]
          },
          "execution_count": 20,
          "metadata": {},
          "output_type": "execute_result"
        }
      ],
      "source": [
        "data['rating_count'].value_counts() "
      ]
    },
    {
      "cell_type": "code",
      "execution_count": null,
      "id": "7cc1705c",
      "metadata": {
        "id": "7cc1705c"
      },
      "outputs": [],
      "source": [
        "# for rating counts \n",
        "# convert Too Few Ratings to 1 and whole typecasted to float \n",
        "\n",
        "def fun(n):\n",
        "    try:\n",
        "        num = n.split(\" \")[0]\n",
        "        if num.split('+')[0].isdigit():\n",
        "            return float(num.split('+')[0]) \n",
        "        else:\n",
        "            return 1 \n",
        "    except:\n",
        "        return n \n",
        "\n",
        "data['rating_count']=data['rating_count'].apply(fun)  "
      ]
    },
    {
      "cell_type": "code",
      "execution_count": null,
      "id": "eec46684",
      "metadata": {
        "id": "eec46684"
      },
      "outputs": [],
      "source": [
        "# for cost column \n",
        "# just remove the ₹ sign and convert to float \n",
        "def fun(a):\n",
        "    try:\n",
        "        return float(a.split('₹')[1]) \n",
        "    except:\n",
        "        return 0 \n",
        "\n",
        "data['cost'] = data['cost'].apply(fun)   \n",
        "#Data Cleaning is completed now"
      ]
    },
    {
      "cell_type": "code",
      "execution_count": null,
      "id": "a33e12e3",
      "metadata": {
        "id": "a33e12e3"
      },
      "outputs": [],
      "source": [
        "#Exploratory data Analysis"
      ]
    },
    {
      "cell_type": "code",
      "execution_count": null,
      "id": "fdd6df63",
      "metadata": {
        "id": "fdd6df63",
        "outputId": "a120d7ef-7103-4aed-b9ee-0468e9aab2f5"
      },
      "outputs": [
        {
          "data": {
            "text/html": [
              "<div>\n",
              "<style scoped>\n",
              "    .dataframe tbody tr th:only-of-type {\n",
              "        vertical-align: middle;\n",
              "    }\n",
              "\n",
              "    .dataframe tbody tr th {\n",
              "        vertical-align: top;\n",
              "    }\n",
              "\n",
              "    .dataframe thead th {\n",
              "        text-align: right;\n",
              "    }\n",
              "</style>\n",
              "<table border=\"1\" class=\"dataframe\">\n",
              "  <thead>\n",
              "    <tr style=\"text-align: right;\">\n",
              "      <th></th>\n",
              "      <th>id</th>\n",
              "      <th>rating</th>\n",
              "      <th>rating_count</th>\n",
              "      <th>cost</th>\n",
              "    </tr>\n",
              "  </thead>\n",
              "  <tbody>\n",
              "    <tr>\n",
              "      <th>count</th>\n",
              "      <td>148255.000000</td>\n",
              "      <td>148255.000000</td>\n",
              "      <td>148255.000000</td>\n",
              "      <td>148255.0</td>\n",
              "    </tr>\n",
              "    <tr>\n",
              "      <th>mean</th>\n",
              "      <td>363737.807649</td>\n",
              "      <td>2.555256</td>\n",
              "      <td>36.204459</td>\n",
              "      <td>0.0</td>\n",
              "    </tr>\n",
              "    <tr>\n",
              "      <th>std</th>\n",
              "      <td>167787.159149</td>\n",
              "      <td>1.163415</td>\n",
              "      <td>87.958896</td>\n",
              "      <td>0.0</td>\n",
              "    </tr>\n",
              "    <tr>\n",
              "      <th>min</th>\n",
              "      <td>211.000000</td>\n",
              "      <td>1.000000</td>\n",
              "      <td>1.000000</td>\n",
              "      <td>0.0</td>\n",
              "    </tr>\n",
              "    <tr>\n",
              "      <th>25%</th>\n",
              "      <td>234022.500000</td>\n",
              "      <td>1.610000</td>\n",
              "      <td>1.000000</td>\n",
              "      <td>0.0</td>\n",
              "    </tr>\n",
              "    <tr>\n",
              "      <th>50%</th>\n",
              "      <td>412935.000000</td>\n",
              "      <td>1.610000</td>\n",
              "      <td>1.000000</td>\n",
              "      <td>0.0</td>\n",
              "    </tr>\n",
              "    <tr>\n",
              "      <th>75%</th>\n",
              "      <td>502339.500000</td>\n",
              "      <td>3.800000</td>\n",
              "      <td>20.000000</td>\n",
              "      <td>0.0</td>\n",
              "    </tr>\n",
              "    <tr>\n",
              "      <th>max</th>\n",
              "      <td>581031.000000</td>\n",
              "      <td>5.000000</td>\n",
              "      <td>500.000000</td>\n",
              "      <td>0.0</td>\n",
              "    </tr>\n",
              "  </tbody>\n",
              "</table>\n",
              "</div>"
            ],
            "text/plain": [
              "                  id         rating   rating_count      cost\n",
              "count  148255.000000  148255.000000  148255.000000  148255.0\n",
              "mean   363737.807649       2.555256      36.204459       0.0\n",
              "std    167787.159149       1.163415      87.958896       0.0\n",
              "min       211.000000       1.000000       1.000000       0.0\n",
              "25%    234022.500000       1.610000       1.000000       0.0\n",
              "50%    412935.000000       1.610000       1.000000       0.0\n",
              "75%    502339.500000       3.800000      20.000000       0.0\n",
              "max    581031.000000       5.000000     500.000000       0.0"
            ]
          },
          "execution_count": 30,
          "metadata": {},
          "output_type": "execute_result"
        }
      ],
      "source": [
        "data.describe() "
      ]
    },
    {
      "cell_type": "code",
      "execution_count": null,
      "id": "a7a2a726",
      "metadata": {
        "id": "a7a2a726",
        "outputId": "7d5ff4be-ff58-4a59-a694-718da604ee32"
      },
      "outputs": [
        {
          "data": {
            "text/plain": [
              "name\n",
              "Ranade Bandhu                                      4.7\n",
              "Kwality Walls Frozen Dessert and Ice Cream Shop    4.5\n",
              "Bliss the fusion resto                             4.2\n",
              "Domino's Pizza                                     4.2\n",
              "Chaitanya Bhojnalay                                4.0\n",
              "Name: rating, dtype: float64"
            ]
          },
          "execution_count": 40,
          "metadata": {},
          "output_type": "execute_result"
        }
      ],
      "source": [
        "# 1. Restaurant with Maximum Rating in Yavatmal\n",
        "data1 = data[data['city']=='Yavatmal']\n",
        "max_rating_in_city = data1.groupby('name')['rating'].max().sort_values(ascending=False).head(5) \n",
        "max_rating_in_city "
      ]
    },
    {
      "cell_type": "code",
      "execution_count": null,
      "id": "b536af53",
      "metadata": {
        "id": "b536af53",
        "outputId": "30adc804-016c-49dc-da90-e5a17e24bc3a"
      },
      "outputs": [
        {
          "data": {
            "image/png": "[encoded data removed]",
            "text/plain": [
              "<Figure size 720x504 with 1 Axes>"
            ]
          },
          "metadata": {
            "needs_background": "light"
          },
          "output_type": "display_data"
        }
      ],
      "source": [
        "import matplotlib.pyplot as plt\n",
        "plt.figure(figsize=(10, 7))\n",
        "max_rating_in_city.plot.bar()\n",
        "plt.ylabel(\"Rating in number\")\n",
        "plt.xlabel(\"Restaurent name\")\n",
        "plt.title(\"Restaurant with Maximum Rating in Yavatmal City of Punjab\") \n",
        "plt.show()"
      ]
    },
    {
      "cell_type": "code",
      "execution_count": null,
      "id": "655d9778",
      "metadata": {
        "id": "655d9778",
        "outputId": "f49ee401-dc5d-4bb0-ab0f-a168ae536709"
      },
      "outputs": [
        {
          "data": {
            "text/plain": [
              "821"
            ]
          },
          "execution_count": 34,
          "metadata": {},
          "output_type": "execute_result"
        }
      ],
      "source": [
        "# 2. Number of cities (including subregions) where swiggy is having their restaurants listed? \n",
        "len(data.groupby('city'))  "
      ]
    },
    {
      "cell_type": "code",
      "execution_count": null,
      "id": "f5af9851",
      "metadata": {
        "id": "f5af9851",
        "outputId": "4200cbbc-57e2-4e5d-b0c7-1162f9e05d32"
      },
      "outputs": [
        {
          "data": {
            "text/plain": [
              "552"
            ]
          },
          "execution_count": 35,
          "metadata": {},
          "output_type": "execute_result"
        }
      ],
      "source": [
        "# 3. Number of cities (don't include subregions) where swiggy is having their restaurants listed? \n",
        "data['city'].apply(lambda x: x.split(\",\")[-1]).nunique()"
      ]
    },
    {
      "cell_type": "code",
      "execution_count": null,
      "id": "5e6071d0",
      "metadata": {
        "id": "5e6071d0",
        "outputId": "c96d4876-31bd-4b9e-9d8b-0b430dd1bd89"
      },
      "outputs": [
        {
          "data": {
            "text/plain": [
              "'Bikaner'"
            ]
          },
          "execution_count": 36,
          "metadata": {},
          "output_type": "execute_result"
        }
      ],
      "source": [
        "# 4. The city with the maximum number of restaurants listed on Swiggy? \n",
        "data.groupby('city').size().sort_values(ascending=False).reset_index().iloc[0,0]    "
      ]
    },
    {
      "cell_type": "code",
      "execution_count": null,
      "id": "f2092502",
      "metadata": {
        "id": "f2092502",
        "outputId": "035977db-69e9-4714-b217-a2b160ec0659"
      },
      "outputs": [
        {
          "data": {
            "text/plain": [
              "\"Domino's Pizza\""
            ]
          },
          "execution_count": 37,
          "metadata": {},
          "output_type": "execute_result"
        }
      ],
      "source": [
        "# 5. Restaurant chain with maximum number of branches? \n",
        "data['name'].value_counts().sort_values(ascending=False).index[0] "
      ]
    },
    {
      "cell_type": "code",
      "execution_count": null,
      "id": "67d5c7a4",
      "metadata": {
        "id": "67d5c7a4",
        "outputId": "f8fd930a-7672-4c9d-e57a-31d6f5e11fc1"
      },
      "outputs": [
        {
          "data": {
            "text/plain": [
              "city\n",
              "Bikaner                      1665\n",
              "Noida-1                      1424\n",
              "Indirapuram,Delhi            1279\n",
              "BTM,Bangalore                1159\n",
              "Rohini,Delhi                 1135\n",
              "Kothrud,Pune                 1086\n",
              "Indiranagar,Bangalore        1079\n",
              "Electronic City,Bangalore    1039\n",
              "Greater Kailash 2,Delhi      1037\n",
              "Vashi,Mumbai                 1021\n",
              "Name: name, dtype: int64"
            ]
          },
          "execution_count": 38,
          "metadata": {},
          "output_type": "execute_result"
        }
      ],
      "source": [
        "# 6. Top 10 cities as per the number of restaurants listed?  \n",
        "top_10_cities = data.groupby('city')['name'].count().sort_values(ascending=False).head(10)\n",
        "top_10_cities "
      ]
    },
    {
      "cell_type": "code",
      "execution_count": null,
      "id": "d1ba1de0",
      "metadata": {
        "id": "d1ba1de0",
        "outputId": "5e41265f-062b-4d49-9dfd-45d02346b209"
      },
      "outputs": [
        {
          "data": {
            "image/png": "[encoded data removed]",
            "text/plain": [
              "<Figure size 1080x576 with 1 Axes>"
            ]
          },
          "metadata": {
            "needs_background": "light"
          },
          "output_type": "display_data"
        }
      ],
      "source": [
        "plt.figure(figsize=(15, 8))\n",
        "top_10_cities.plot.bar()\n",
        "plt.ylabel(\"number of restaurants\")\n",
        "plt.xlabel(\"Cities\")\n",
        "plt.title(\"Top 10 cities as per the number of restaurants\") \n",
        "plt.show() "
      ]
    },
    {
      "cell_type": "code",
      "execution_count": null,
      "id": "0cbc3dab",
      "metadata": {
        "id": "0cbc3dab",
        "outputId": "8ba11c6e-d7a7-4096-ae54-2a9cec2dca37"
      },
      "outputs": [
        {
          "data": {
            "text/plain": [
              "'Abids & Koti,Hyderabad'"
            ]
          },
          "execution_count": 42,
          "metadata": {},
          "output_type": "execute_result"
        }
      ],
      "source": [
        "# 8. Which city is having the least expensive restaurant in terms of cost?\n",
        "data.groupby('city')['cost'].mean().sort_values().index[0]  "
      ]
    },
    {
      "cell_type": "code",
      "execution_count": null,
      "id": "559c3b9c",
      "metadata": {
        "id": "559c3b9c",
        "outputId": "c52f2fd2-9ec6-4f8f-800e-42ab431345f7"
      },
      "outputs": [
        {
          "data": {
            "text/plain": [
              "name\n",
              "DESI REPUBLIC              5.0\n",
              "Just Dig In                5.0\n",
              "Kurries & krolls           5.0\n",
              "SHREE SAMARTHA CHAPATIS    5.0\n",
              "OLIVE PIZZERIA             5.0\n",
              "Name: rating, dtype: float64"
            ]
          },
          "execution_count": 43,
          "metadata": {},
          "output_type": "execute_result"
        }
      ],
      "source": [
        "# 9. Top 5 most popular restaurant chains in India? \n",
        "Top_5_most_popular_restaurant_chains = data.groupby('name')['rating'].mean().sort_values(ascending=False).head(5)  \n",
        "Top_5_most_popular_restaurant_chains "
      ]
    },
    {
      "cell_type": "code",
      "execution_count": null,
      "id": "ca96f544",
      "metadata": {
        "id": "ca96f544",
        "outputId": "cde1a9c4-de05-424f-9221-e94622407ed9"
      },
      "outputs": [
        {
          "data": {
            "image/png": "[encoded data removed]",
            "text/plain": [
              "<Figure size 1080x576 with 1 Axes>"
            ]
          },
          "metadata": {
            "needs_background": "light"
          },
          "output_type": "display_data"
        }
      ],
      "source": [
        "plt.figure(figsize=(15, 8))\n",
        "Top_5_most_popular_restaurant_chains.plot.bar()\n",
        "plt.ylabel(\"rating\")\n",
        "plt.xlabel(\"Restaurent\")\n",
        "plt.title(\"Top 5 most popular restaurant chains in India\") \n",
        "plt.show() "
      ]
    },
    {
      "cell_type": "code",
      "execution_count": null,
      "id": "f496efc3",
      "metadata": {
        "id": "f496efc3",
        "outputId": "5445bef2-b235-4bc0-eb5a-7856cf033404"
      },
      "outputs": [
        {
          "data": {
            "text/plain": [
              "\"Domino's Pizza\""
            ]
          },
          "execution_count": 45,
          "metadata": {},
          "output_type": "execute_result"
        }
      ],
      "source": [
        "# 10. Which restaurant in Banglore has the most number of people visited(take a number of reviews for reference)? \n",
        "data2 = data[data['city'].str.contains('Bangalore')]\n",
        "data2 = data[data['city'].str.contains('Bangalore')]\n",
        "data2.groupby('name')['rating_count'].sum().sort_values(ascending=False).index[0] "
      ]
    },
    {
      "cell_type": "code",
      "execution_count": null,
      "id": "ada9343e",
      "metadata": {
        "id": "ada9343e"
      },
      "outputs": [],
      "source": []
    }
  ],
  "metadata": {
    "kernelspec": {
      "display_name": "Python 3 (ipykernel)",
      "language": "python",
      "name": "python3"
    },
    "language_info": {
      "codemirror_mode": {
        "name": "ipython",
        "version": 3
      },
      "file_extension": ".py",
      "mimetype": "text/x-python",
      "name": "python",
      "nbconvert_exporter": "python",
      "pygments_lexer": "ipython3",
      "version": "3.9.12"
    },
    "colab": {
      "provenance": []
    }
  },
  "nbformat": 4,
  "nbformat_minor": 5
}