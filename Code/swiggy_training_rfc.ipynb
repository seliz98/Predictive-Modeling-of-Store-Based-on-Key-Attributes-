{
  "cells": [
    {
      "cell_type": "code",
      "execution_count": null,
      "metadata": {
        "id": "YeZuBu9V3Hv0"
      },
      "outputs": [],
      "source": [
        "# Step 1: Load the dataset\n",
        "import pandas as pd\n",
        "import numpy as np\n",
        "data = pd.read_csv('swiggy_final_versionV2.csv')"
      ]
    },
    {
      "cell_type": "code",
      "execution_count": null,
      "metadata": {
        "id": "_1kFxJ7M3Hv5",
        "outputId": "193c0692-897e-47be-954f-75647b440ac6"
      },
      "outputs": [
        {
          "name": "stdout",
          "output_type": "stream",
          "text": [
            "Index(['id', 'name', 'city', 'rating', 'rating_count', 'cost', 'cuisine',\n",
            "       'lic_no', 'link', 'address', 'menu', 'weekly_avg_salary',\n",
            "       'no_years_open'],\n",
            "      dtype='object')\n"
          ]
        }
      ],
      "source": [
        "print(data.columns)"
      ]
    },
    {
      "cell_type": "code",
      "execution_count": null,
      "metadata": {
        "id": "9hdjnbCw3Hv7"
      },
      "outputs": [],
      "source": [
        "# Step 2: Data Preprocessing\n",
        "columns_to_remove = ['id', 'name', 'lic_no', 'link', 'address', 'menu']\n",
        "data = data.drop(columns_to_remove, axis=1)\n",
        "data['cuisine'] = data['cuisine'].astype('category')\n",
        "data['city'] = data['city'].astype('category')"
      ]
    },
    {
      "cell_type": "code",
      "execution_count": null,
      "metadata": {
        "id": "6y4cItno3Hv7"
      },
      "outputs": [],
      "source": [
        "# Split the dataset into training and testing sets\n",
        "from sklearn.model_selection import train_test_split\n",
        "X = data.drop('rating', axis=1)\n",
        "X = pd.get_dummies(X, columns=['cuisine', 'city'])\n",
        "y = data['rating']\n",
        "X_train, X_test, y_train, y_test = train_test_split(X, y, test_size=0.2, random_state=42)\n"
      ]
    },
    {
      "cell_type": "code",
      "execution_count": null,
      "metadata": {
        "id": "LBzHAoA83Hv8",
        "outputId": "7cfc131c-f2dd-4f2b-9b3f-1058ee0a267a"
      },
      "outputs": [
        {
          "name": "stdout",
          "output_type": "stream",
          "text": [
            "2945\n"
          ]
        }
      ],
      "source": [
        "#print(X_train)\n",
        "#print(y_train)\n",
        "print(len(X_train.columns))"
      ]
    },
    {
      "cell_type": "code",
      "execution_count": null,
      "metadata": {
        "id": "2-JQToD33Hv8"
      },
      "outputs": [],
      "source": [
        "# Step 3: Define parameters\n",
        "from sklearn.ensemble import RandomForestRegressor\n",
        "params = {\n",
        "    'n_estimators': 10,\n",
        "    'max_depth': 5,\n",
        "    'min_samples_split': 2,\n",
        "    'min_samples_leaf': 1,\n",
        "    'max_features': 'sqrt',\n",
        "    'bootstrap': True,\n",
        "    'random_state': 42\n",
        "}"
      ]
    },
    {
      "cell_type": "code",
      "execution_count": null,
      "metadata": {
        "id": "ycjvUQHd3Hv9"
      },
      "outputs": [],
      "source": [
        "rfc = RandomForestRegressor(**params)"
      ]
    },
    {
      "cell_type": "code",
      "execution_count": null,
      "metadata": {
        "id": "jL58uVe63Hv9",
        "outputId": "2e482a0d-9195-4714-e9db-edd3df0d4d45"
      },
      "outputs": [
        {
          "data": {
            "text/html": [
              "<style>#sk-container-id-2 {color: black;background-color: white;}#sk-container-id-2 pre{padding: 0;}#sk-container-id-2 div.sk-toggleable {background-color: white;}#sk-container-id-2 label.sk-toggleable__label {cursor: pointer;display: block;width: 100%;margin-bottom: 0;padding: 0.3em;box-sizing: border-box;text-align: center;}#sk-container-id-2 label.sk-toggleable__label-arrow:before {content: \"▸\";float: left;margin-right: 0.25em;color: #696969;}#sk-container-id-2 label.sk-toggleable__label-arrow:hover:before {color: black;}#sk-container-id-2 div.sk-estimator:hover label.sk-toggleable__label-arrow:before {color: black;}#sk-container-id-2 div.sk-toggleable__content {max-height: 0;max-width: 0;overflow: hidden;text-align: left;background-color: #f0f8ff;}#sk-container-id-2 div.sk-toggleable__content pre {margin: 0.2em;color: black;border-radius: 0.25em;background-color: #f0f8ff;}#sk-container-id-2 input.sk-toggleable__control:checked~div.sk-toggleable__content {max-height: 200px;max-width: 100%;overflow: auto;}#sk-container-id-2 input.sk-toggleable__control:checked~label.sk-toggleable__label-arrow:before {content: \"▾\";}#sk-container-id-2 div.sk-estimator input.sk-toggleable__control:checked~label.sk-toggleable__label {background-color: #d4ebff;}#sk-container-id-2 div.sk-label input.sk-toggleable__control:checked~label.sk-toggleable__label {background-color: #d4ebff;}#sk-container-id-2 input.sk-hidden--visually {border: 0;clip: rect(1px 1px 1px 1px);clip: rect(1px, 1px, 1px, 1px);height: 1px;margin: -1px;overflow: hidden;padding: 0;position: absolute;width: 1px;}#sk-container-id-2 div.sk-estimator {font-family: monospace;background-color: #f0f8ff;border: 1px dotted black;border-radius: 0.25em;box-sizing: border-box;margin-bottom: 0.5em;}#sk-container-id-2 div.sk-estimator:hover {background-color: #d4ebff;}#sk-container-id-2 div.sk-parallel-item::after {content: \"\";width: 100%;border-bottom: 1px solid gray;flex-grow: 1;}#sk-container-id-2 div.sk-label:hover label.sk-toggleable__label {background-color: #d4ebff;}#sk-container-id-2 div.sk-serial::before {content: \"\";position: absolute;border-left: 1px solid gray;box-sizing: border-box;top: 0;bottom: 0;left: 50%;z-index: 0;}#sk-container-id-2 div.sk-serial {display: flex;flex-direction: column;align-items: center;background-color: white;padding-right: 0.2em;padding-left: 0.2em;position: relative;}#sk-container-id-2 div.sk-item {position: relative;z-index: 1;}#sk-container-id-2 div.sk-parallel {display: flex;align-items: stretch;justify-content: center;background-color: white;position: relative;}#sk-container-id-2 div.sk-item::before, #sk-container-id-2 div.sk-parallel-item::before {content: \"\";position: absolute;border-left: 1px solid gray;box-sizing: border-box;top: 0;bottom: 0;left: 50%;z-index: -1;}#sk-container-id-2 div.sk-parallel-item {display: flex;flex-direction: column;z-index: 1;position: relative;background-color: white;}#sk-container-id-2 div.sk-parallel-item:first-child::after {align-self: flex-end;width: 50%;}#sk-container-id-2 div.sk-parallel-item:last-child::after {align-self: flex-start;width: 50%;}#sk-container-id-2 div.sk-parallel-item:only-child::after {width: 0;}#sk-container-id-2 div.sk-dashed-wrapped {border: 1px dashed gray;margin: 0 0.4em 0.5em 0.4em;box-sizing: border-box;padding-bottom: 0.4em;background-color: white;}#sk-container-id-2 div.sk-label label {font-family: monospace;font-weight: bold;display: inline-block;line-height: 1.2em;}#sk-container-id-2 div.sk-label-container {text-align: center;}#sk-container-id-2 div.sk-container {/* jupyter's `normalize.less` sets `[hidden] { display: none; }` but bootstrap.min.css set `[hidden] { display: none !important; }` so we also need the `!important` here to be able to override the default hidden behavior on the sphinx rendered scikit-learn.org. See: https://github.com/scikit-learn/scikit-learn/issues/21755 */display: inline-block !important;position: relative;}#sk-container-id-2 div.sk-text-repr-fallback {display: none;}</style><div id=\"sk-container-id-2\" class=\"sk-top-container\"><div class=\"sk-text-repr-fallback\"><pre>RandomForestRegressor(max_depth=5, max_features=&#x27;sqrt&#x27;, n_estimators=10,\n",
              "                      random_state=42)</pre><b>In a Jupyter environment, please rerun this cell to show the HTML representation or trust the notebook. <br />On GitHub, the HTML representation is unable to render, please try loading this page with nbviewer.org.</b></div><div class=\"sk-container\" hidden><div class=\"sk-item\"><div class=\"sk-estimator sk-toggleable\"><input class=\"sk-toggleable__control sk-hidden--visually\" id=\"sk-estimator-id-2\" type=\"checkbox\" checked><label for=\"sk-estimator-id-2\" class=\"sk-toggleable__label sk-toggleable__label-arrow\">RandomForestRegressor</label><div class=\"sk-toggleable__content\"><pre>RandomForestRegressor(max_depth=5, max_features=&#x27;sqrt&#x27;, n_estimators=10,\n",
              "                      random_state=42)</pre></div></div></div></div></div>"
            ],
            "text/plain": [
              "RandomForestRegressor(max_depth=5, max_features='sqrt', n_estimators=10,\n",
              "                      random_state=42)"
            ]
          },
          "execution_count": 22,
          "metadata": {},
          "output_type": "execute_result"
        }
      ],
      "source": [
        "\n",
        "# Step 4: Train the model\n",
        "rfc.fit(X_train, y_train)"
      ]
    },
    {
      "cell_type": "code",
      "execution_count": null,
      "metadata": {
        "id": "6kJIzGl33Hv-",
        "outputId": "a90c5d00-c9ba-404c-bd38-b8f9649c3c1f"
      },
      "outputs": [
        {
          "name": "stdout",
          "output_type": "stream",
          "text": [
            "MAE: 1.1036567940628017\n",
            "RMSE: 1.154288388035201\n",
            "R-squared: 0.015885692532452644\n"
          ]
        }
      ],
      "source": [
        "\n",
        "# Step 5: Evaluate the model\n",
        "from sklearn.metrics import mean_absolute_error, mean_squared_error, r2_score\n",
        "y_pred = rfc.predict(X_test)\n",
        "\n",
        "print('MAE:', mean_absolute_error(y_test, y_pred))\n",
        "print('RMSE:', mean_squared_error(y_test, y_pred, squared=False))\n",
        "print('R-squared:', r2_score(y_test, y_pred))"
      ]
    },
    {
      "cell_type": "code",
      "execution_count": null,
      "metadata": {
        "id": "-Zu6EJgH3Hv-",
        "outputId": "6303404b-e918-48b7-f8ae-6fc185098b3a"
      },
      "outputs": [
        {
          "name": "stdout",
          "output_type": "stream",
          "text": [
            "Predicted Rating: 2.550259556345501\n"
          ]
        }
      ],
      "source": [
        "\n",
        "# Step 6: Predict ratings\n",
        "# Use the trained XGBoost model to predict the rating of a restaurant based on its features\n",
        "new_data = pd.DataFrame({'city': ['Abohar'], 'rating_count': [1.0], 'cost': [200.0], 'cuisine': ['Beverages,Pizzas'], 'weekly_avg_salary': [4529.75], 'no_years_open': [1]})\n",
        "new_data_encoded = pd.get_dummies(new_data, columns=['cuisine', 'city'])\n",
        "new_data_encoded = new_data_encoded.reindex(columns=X_train.columns, fill_value=0)\n",
        "rating = rfc.predict(new_data_encoded)\n",
        "print('Predicted Rating:', rating[0])"
      ]
    }
  ],
  "metadata": {
    "kernelspec": {
      "display_name": "Python 3",
      "language": "python",
      "name": "python3"
    },
    "language_info": {
      "codemirror_mode": {
        "name": "ipython",
        "version": 3
      },
      "file_extension": ".py",
      "mimetype": "text/x-python",
      "name": "python",
      "nbconvert_exporter": "python",
      "pygments_lexer": "ipython3",
      "version": "3.11.0"
    },
    "orig_nbformat": 4,
    "colab": {
      "provenance": []
    }
  },
  "nbformat": 4,
  "nbformat_minor": 0
}