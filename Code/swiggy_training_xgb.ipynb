{
  "cells": [
    {
      "cell_type": "code",
      "execution_count": null,
      "metadata": {
        "id": "Yt4fQ9WF3Igv"
      },
      "outputs": [],
      "source": [
        "# Step 1: Load the dataset\n",
        "import pandas as pd\n",
        "import numpy as np\n",
        "data = pd.read_csv('swiggy_final_versionV2.csv')"
      ]
    },
    {
      "cell_type": "code",
      "execution_count": null,
      "metadata": {
        "id": "U7R6y6l43Igy",
        "outputId": "28bf4a94-c46f-45f0-8157-17922c406cbe"
      },
      "outputs": [
        {
          "name": "stdout",
          "output_type": "stream",
          "text": [
            "Index(['id', 'name', 'city', 'rating', 'rating_count', 'cost', 'cuisine',\n",
            "       'lic_no', 'link', 'address', 'menu', 'weekly_avg_salary',\n",
            "       'no_years_open'],\n",
            "      dtype='object')\n",
            "148242\n"
          ]
        }
      ],
      "source": [
        "print(data.columns)\n",
        "print(len(data))"
      ]
    },
    {
      "cell_type": "code",
      "execution_count": null,
      "metadata": {
        "id": "Hf5s9qcl3Igz",
        "outputId": "fc8fe22b-bd40-4c1c-9c1e-a9423e3cb7cf"
      },
      "outputs": [
        {
          "name": "stdout",
          "output_type": "stream",
          "text": [
            "2120\n",
            "['Beverages,Pizzas' 'Sweets,Bakery' 'Beverages' ... 'Biryani,Thai'\n",
            " 'South American,Andhra' 'Barbecue,Italian-American']\n"
          ]
        }
      ],
      "source": [
        "cuisines = data['cuisine'].unique()\n",
        "print(len(cuisines))\n",
        "print(cuisines)"
      ]
    },
    {
      "cell_type": "code",
      "execution_count": null,
      "metadata": {
        "id": "zorv65Uu3Ig0",
        "outputId": "cb7dd746-f1c9-4ff5-abd3-8595a1b54f0a"
      },
      "outputs": [
        {
          "name": "stdout",
          "output_type": "stream",
          "text": [
            "[]\n",
            "0\n"
          ]
        }
      ],
      "source": [
        "import re\n",
        "\n",
        "weird_values = []\n",
        "\n",
        "# Use regular expression to find values containing numbers or specific words\n",
        "pattern = re.compile(r'\\d+|discount|offer|default|delivery|brand', re.IGNORECASE)\n",
        "\n",
        "\n",
        "# Loop through each element of the array\n",
        "for elem in cuisines:\n",
        "    # Check if the element matches the pattern\n",
        "    if pattern.findall(str(elem)):\n",
        "        weird_values.append(elem)\n",
        "\n",
        "print(weird_values)\n",
        "print(len(weird_values))"
      ]
    },
    {
      "cell_type": "code",
      "execution_count": null,
      "metadata": {
        "id": "sfZQLHy03Ig2"
      },
      "outputs": [],
      "source": [
        "#TODO: Currently working here\n",
        "#Checking for wierd values in the dataset in city, rating, rating_count, cost, cuisine, weekly_avg_salary, no_years_open\n",
        "unique_city = data.groupby('city')['city'].count().reset_index(name='Count')\n",
        "unique_rating = data.groupby('rating')['rating'].count().reset_index(name='Count')\n",
        "unique_rating_count = data.groupby('rating_count')['rating_count'].count().reset_index(name='Count')\n",
        "unique_cost = data.groupby('cost')['cost'].count().reset_index(name='Count')\n",
        "unique_cuisine = data.groupby('cuisine')['cuisine'].count().reset_index(name='Count')\n",
        "unique_weekly_avg_salary = data.groupby('weekly_avg_salary')['weekly_avg_salary'].count().reset_index(name='Count')\n",
        "unique_no_years_open = data.groupby('no_years_open')['no_years_open'].count().reset_index(name='Count')"
      ]
    },
    {
      "cell_type": "code",
      "execution_count": null,
      "metadata": {
        "id": "ZsFhPCdK3Ig2"
      },
      "outputs": [],
      "source": [
        "unique_city.to_csv('unique_city.csv', index=False)\n",
        "unique_rating.to_csv('unique_rating.csv', index=False)\n",
        "unique_rating_count.to_csv('unique_rating_count.csv', index=False)\n",
        "unique_cost.to_csv('unique_cost.csv', index=False)\n",
        "unique_cuisine.to_csv('unique_cuisine.csv', index=False)\n",
        "unique_weekly_avg_salary.to_csv('unique_weekly_avg_salary.csv', index=False)\n",
        "unique_no_years_open.to_csv('unique_no_years_open.csv', index=False)"
      ]
    },
    {
      "cell_type": "code",
      "execution_count": null,
      "metadata": {
        "id": "oHgJ9P4U3Ig3"
      },
      "outputs": [],
      "source": [
        "# Step 2: Data Preprocessing\n",
        "columns_to_remove = ['id', 'name', 'lic_no', 'link', 'address', 'menu']\n",
        "data = data.drop(columns_to_remove, axis=1)\n",
        "data['cuisine'] = data['cuisine'].astype('category')\n",
        "data['city'] = data['city'].astype('category')"
      ]
    },
    {
      "cell_type": "code",
      "execution_count": null,
      "metadata": {
        "id": "PjeDghts3Ig4",
        "outputId": "2c1a9b90-f817-4e1a-d7d8-e9e0b2961e1f"
      },
      "outputs": [
        {
          "name": "stdout",
          "output_type": "stream",
          "text": [
            "                      cuisine    city\n",
            "0            Beverages,Pizzas  Abohar\n",
            "1               Sweets,Bakery  Abohar\n",
            "2                   Beverages  Abohar\n",
            "3            Fast Food,Indian  Abohar\n",
            "4  Italian-American,Fast Food  Abohar\n",
            "Index(['city', 'rating', 'rating_count', 'cost', 'cuisine',\n",
            "       'weekly_avg_salary', 'no_years_open'],\n",
            "      dtype='object')\n"
          ]
        }
      ],
      "source": [
        "print(data[['cuisine', 'city']].head(5))\n",
        "print(data.columns)"
      ]
    },
    {
      "cell_type": "code",
      "execution_count": null,
      "metadata": {
        "id": "P79uGohL3Ig5"
      },
      "outputs": [],
      "source": [
        "# Split the dataset into training and testing sets\n",
        "from sklearn.model_selection import train_test_split\n",
        "X = data.drop('rating', axis=1)\n",
        "X = pd.get_dummies(X, columns=['cuisine', 'city'])\n",
        "y = data['rating']\n",
        "X_train, X_test, y_train, y_test = train_test_split(X, y, test_size=0.2, random_state=42)\n"
      ]
    },
    {
      "cell_type": "code",
      "execution_count": null,
      "metadata": {
        "id": "sfvfFrF-3Ig5",
        "outputId": "d003d583-5022-4840-fb91-c5e251cd884e"
      },
      "outputs": [
        {
          "name": "stdout",
          "output_type": "stream",
          "text": [
            "2945\n"
          ]
        }
      ],
      "source": [
        "#print(X_train)\n",
        "#print(y_train)\n",
        "print(len(X_train.columns))"
      ]
    },
    {
      "cell_type": "code",
      "execution_count": null,
      "metadata": {
        "id": "9nEYbkqP3Ig6"
      },
      "outputs": [],
      "source": [
        "# Step 3: Define XGBoost parameters\n",
        "import xgboost as xgb\n",
        "params = {'objective': 'reg:squarederror', 'colsample_bytree': 0.3, 'learning_rate': 0.1,\n",
        "          'max_depth': 5, 'alpha': 10, 'n_estimators': 10}"
      ]
    },
    {
      "cell_type": "code",
      "execution_count": null,
      "metadata": {
        "id": "CvF8oi343Ig7",
        "outputId": "2b6ebb79-10d4-45b7-cb0b-6e617c75d1a9"
      },
      "outputs": [
        {
          "data": {
            "text/html": [
              "<style>#sk-container-id-1 {color: black;background-color: white;}#sk-container-id-1 pre{padding: 0;}#sk-container-id-1 div.sk-toggleable {background-color: white;}#sk-container-id-1 label.sk-toggleable__label {cursor: pointer;display: block;width: 100%;margin-bottom: 0;padding: 0.3em;box-sizing: border-box;text-align: center;}#sk-container-id-1 label.sk-toggleable__label-arrow:before {content: \"▸\";float: left;margin-right: 0.25em;color: #696969;}#sk-container-id-1 label.sk-toggleable__label-arrow:hover:before {color: black;}#sk-container-id-1 div.sk-estimator:hover label.sk-toggleable__label-arrow:before {color: black;}#sk-container-id-1 div.sk-toggleable__content {max-height: 0;max-width: 0;overflow: hidden;text-align: left;background-color: #f0f8ff;}#sk-container-id-1 div.sk-toggleable__content pre {margin: 0.2em;color: black;border-radius: 0.25em;background-color: #f0f8ff;}#sk-container-id-1 input.sk-toggleable__control:checked~div.sk-toggleable__content {max-height: 200px;max-width: 100%;overflow: auto;}#sk-container-id-1 input.sk-toggleable__control:checked~label.sk-toggleable__label-arrow:before {content: \"▾\";}#sk-container-id-1 div.sk-estimator input.sk-toggleable__control:checked~label.sk-toggleable__label {background-color: #d4ebff;}#sk-container-id-1 div.sk-label input.sk-toggleable__control:checked~label.sk-toggleable__label {background-color: #d4ebff;}#sk-container-id-1 input.sk-hidden--visually {border: 0;clip: rect(1px 1px 1px 1px);clip: rect(1px, 1px, 1px, 1px);height: 1px;margin: -1px;overflow: hidden;padding: 0;position: absolute;width: 1px;}#sk-container-id-1 div.sk-estimator {font-family: monospace;background-color: #f0f8ff;border: 1px dotted black;border-radius: 0.25em;box-sizing: border-box;margin-bottom: 0.5em;}#sk-container-id-1 div.sk-estimator:hover {background-color: #d4ebff;}#sk-container-id-1 div.sk-parallel-item::after {content: \"\";width: 100%;border-bottom: 1px solid gray;flex-grow: 1;}#sk-container-id-1 div.sk-label:hover label.sk-toggleable__label {background-color: #d4ebff;}#sk-container-id-1 div.sk-serial::before {content: \"\";position: absolute;border-left: 1px solid gray;box-sizing: border-box;top: 0;bottom: 0;left: 50%;z-index: 0;}#sk-container-id-1 div.sk-serial {display: flex;flex-direction: column;align-items: center;background-color: white;padding-right: 0.2em;padding-left: 0.2em;position: relative;}#sk-container-id-1 div.sk-item {position: relative;z-index: 1;}#sk-container-id-1 div.sk-parallel {display: flex;align-items: stretch;justify-content: center;background-color: white;position: relative;}#sk-container-id-1 div.sk-item::before, #sk-container-id-1 div.sk-parallel-item::before {content: \"\";position: absolute;border-left: 1px solid gray;box-sizing: border-box;top: 0;bottom: 0;left: 50%;z-index: -1;}#sk-container-id-1 div.sk-parallel-item {display: flex;flex-direction: column;z-index: 1;position: relative;background-color: white;}#sk-container-id-1 div.sk-parallel-item:first-child::after {align-self: flex-end;width: 50%;}#sk-container-id-1 div.sk-parallel-item:last-child::after {align-self: flex-start;width: 50%;}#sk-container-id-1 div.sk-parallel-item:only-child::after {width: 0;}#sk-container-id-1 div.sk-dashed-wrapped {border: 1px dashed gray;margin: 0 0.4em 0.5em 0.4em;box-sizing: border-box;padding-bottom: 0.4em;background-color: white;}#sk-container-id-1 div.sk-label label {font-family: monospace;font-weight: bold;display: inline-block;line-height: 1.2em;}#sk-container-id-1 div.sk-label-container {text-align: center;}#sk-container-id-1 div.sk-container {/* jupyter's `normalize.less` sets `[hidden] { display: none; }` but bootstrap.min.css set `[hidden] { display: none !important; }` so we also need the `!important` here to be able to override the default hidden behavior on the sphinx rendered scikit-learn.org. See: https://github.com/scikit-learn/scikit-learn/issues/21755 */display: inline-block !important;position: relative;}#sk-container-id-1 div.sk-text-repr-fallback {display: none;}</style><div id=\"sk-container-id-1\" class=\"sk-top-container\"><div class=\"sk-text-repr-fallback\"><pre>XGBRegressor(alpha=10, base_score=None, booster=None, callbacks=None,\n",
              "             colsample_bylevel=None, colsample_bynode=None,\n",
              "             colsample_bytree=0.3, early_stopping_rounds=None,\n",
              "             enable_categorical=False, eval_metric=None, feature_types=None,\n",
              "             gamma=None, gpu_id=None, grow_policy=None, importance_type=None,\n",
              "             interaction_constraints=None, learning_rate=0.1, max_bin=None,\n",
              "             max_cat_threshold=None, max_cat_to_onehot=None,\n",
              "             max_delta_step=None, max_depth=5, max_leaves=None,\n",
              "             min_child_weight=None, missing=nan, monotone_constraints=None,\n",
              "             n_estimators=10, n_jobs=None, num_parallel_tree=None,\n",
              "             predictor=None, ...)</pre><b>In a Jupyter environment, please rerun this cell to show the HTML representation or trust the notebook. <br />On GitHub, the HTML representation is unable to render, please try loading this page with nbviewer.org.</b></div><div class=\"sk-container\" hidden><div class=\"sk-item\"><div class=\"sk-estimator sk-toggleable\"><input class=\"sk-toggleable__control sk-hidden--visually\" id=\"sk-estimator-id-1\" type=\"checkbox\" checked><label for=\"sk-estimator-id-1\" class=\"sk-toggleable__label sk-toggleable__label-arrow\">XGBRegressor</label><div class=\"sk-toggleable__content\"><pre>XGBRegressor(alpha=10, base_score=None, booster=None, callbacks=None,\n",
              "             colsample_bylevel=None, colsample_bynode=None,\n",
              "             colsample_bytree=0.3, early_stopping_rounds=None,\n",
              "             enable_categorical=False, eval_metric=None, feature_types=None,\n",
              "             gamma=None, gpu_id=None, grow_policy=None, importance_type=None,\n",
              "             interaction_constraints=None, learning_rate=0.1, max_bin=None,\n",
              "             max_cat_threshold=None, max_cat_to_onehot=None,\n",
              "             max_delta_step=None, max_depth=5, max_leaves=None,\n",
              "             min_child_weight=None, missing=nan, monotone_constraints=None,\n",
              "             n_estimators=10, n_jobs=None, num_parallel_tree=None,\n",
              "             predictor=None, ...)</pre></div></div></div></div></div>"
            ],
            "text/plain": [
              "XGBRegressor(alpha=10, base_score=None, booster=None, callbacks=None,\n",
              "             colsample_bylevel=None, colsample_bynode=None,\n",
              "             colsample_bytree=0.3, early_stopping_rounds=None,\n",
              "             enable_categorical=False, eval_metric=None, feature_types=None,\n",
              "             gamma=None, gpu_id=None, grow_policy=None, importance_type=None,\n",
              "             interaction_constraints=None, learning_rate=0.1, max_bin=None,\n",
              "             max_cat_threshold=None, max_cat_to_onehot=None,\n",
              "             max_delta_step=None, max_depth=5, max_leaves=None,\n",
              "             min_child_weight=None, missing=nan, monotone_constraints=None,\n",
              "             n_estimators=10, n_jobs=None, num_parallel_tree=None,\n",
              "             predictor=None, ...)"
            ]
          },
          "execution_count": 34,
          "metadata": {},
          "output_type": "execute_result"
        }
      ],
      "source": [
        "\n",
        "# Step 4: Train the model\n",
        "model = xgb.XGBRegressor(**params)\n",
        "model.fit(X_train, y_train)"
      ]
    },
    {
      "cell_type": "code",
      "execution_count": null,
      "metadata": {
        "id": "RRqKGmOz3Ig7",
        "outputId": "a0adbfc1-fb92-46be-a445-52328a167a6c"
      },
      "outputs": [
        {
          "name": "stdout",
          "output_type": "stream",
          "text": [
            "MAE: 0.7837067008106143\n",
            "RMSE: 1.186182856527383\n",
            "R-squared: -0.03925034751473566\n"
          ]
        }
      ],
      "source": [
        "\n",
        "# Step 5: Evaluate the model\n",
        "from sklearn.metrics import mean_absolute_error, mean_squared_error, r2_score\n",
        "y_pred = model.predict(X_test)\n",
        "\n",
        "print('MAE:', mean_absolute_error(y_test, y_pred))\n",
        "print('RMSE:', mean_squared_error(y_test, y_pred, squared=False))\n",
        "print('R-squared:', r2_score(y_test, y_pred))"
      ]
    },
    {
      "cell_type": "code",
      "execution_count": null,
      "metadata": {
        "id": "Sm5LfUC73Ig8",
        "outputId": "4b2208f2-e0b9-44cc-89c7-7c10428b0f6e"
      },
      "outputs": [
        {
          "name": "stdout",
          "output_type": "stream",
          "text": [
            "Predicted Rating: 1.5029217\n"
          ]
        }
      ],
      "source": [
        "\n",
        "# Step 6: Predict ratings\n",
        "# Use the trained XGBoost model to predict the rating of a restaurant based on its features\n",
        "new_data = pd.DataFrame({'city': ['Abohar'], 'rating_count': [1.0], 'cost': [200.0], 'cuisine': ['Beverages,Pizzas'], 'weekly_avg_salary': [4529.75], 'no_years_open': [1]})\n",
        "new_data_encoded = pd.get_dummies(new_data, columns=['cuisine', 'city'])\n",
        "new_data_encoded = new_data_encoded.reindex(columns=X_train.columns, fill_value=0)\n",
        "rating = model.predict(new_data_encoded)\n",
        "print('Predicted Rating:', rating[0])"
      ]
    }
  ],
  "metadata": {
    "kernelspec": {
      "display_name": "Python 3",
      "language": "python",
      "name": "python3"
    },
    "language_info": {
      "codemirror_mode": {
        "name": "ipython",
        "version": 3
      },
      "file_extension": ".py",
      "mimetype": "text/x-python",
      "name": "python",
      "nbconvert_exporter": "python",
      "pygments_lexer": "ipython3",
      "version": "3.11.0"
    },
    "orig_nbformat": 4,
    "colab": {
      "provenance": []
    }
  },
  "nbformat": 4,
  "nbformat_minor": 0
}